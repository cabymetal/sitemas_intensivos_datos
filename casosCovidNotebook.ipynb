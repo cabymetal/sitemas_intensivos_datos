{
 "cells": [
  {
   "cell_type": "markdown",
   "id": "aa4d2d0d",
   "metadata": {},
   "source": [
    "## Laboratorio 2-3 AWS-hadoop-spark"
   ]
  },
  {
   "cell_type": "markdown",
   "id": "313c2189",
   "metadata": {},
   "source": [
    "### EDA Casos covid Colombia"
   ]
  },
  {
   "cell_type": "code",
   "execution_count": 1,
   "id": "9e7ae7c4",
   "metadata": {},
   "outputs": [
    {
     "name": "stdout",
     "output_type": "stream",
     "text": [
      "Starting Spark application\n"
     ]
    },
    {
     "data": {
      "text/html": [
       "<table>\n",
       "<tr><th>ID</th><th>YARN Application ID</th><th>Kind</th><th>State</th><th>Spark UI</th><th>Driver log</th><th>User</th><th>Current session?</th></tr><tr><td>6</td><td>application_1633793432130_0009</td><td>pyspark</td><td>idle</td><td><a target=\"_blank\" href=\"http://ip-172-31-70-123.ec2.internal:20888/proxy/application_1633793432130_0009/\">Link</a></td><td><a target=\"_blank\" href=\"http://ip-172-31-72-237.ec2.internal:8042/node/containerlogs/container_1633793432130_0009_01_000001/livy\">Link</a></td><td>None</td><td>✔</td></tr></table>"
      ],
      "text/plain": [
       "<IPython.core.display.HTML object>"
      ]
     },
     "metadata": {},
     "output_type": "display_data"
    },
    {
     "data": {
      "application/vnd.jupyter.widget-view+json": {
       "model_id": "",
       "version_major": 2,
       "version_minor": 0
      },
      "text/plain": [
       "FloatProgress(value=0.0, bar_style='info', description='Progress:', layout=Layout(height='25px', width='50%'),…"
      ]
     },
     "metadata": {},
     "output_type": "display_data"
    },
    {
     "name": "stdout",
     "output_type": "stream",
     "text": [
      "SparkSession available as 'spark'.\n"
     ]
    },
    {
     "data": {
      "application/vnd.jupyter.widget-view+json": {
       "model_id": "",
       "version_major": 2,
       "version_minor": 0
      },
      "text/plain": [
       "FloatProgress(value=0.0, bar_style='info', description='Progress:', layout=Layout(height='25px', width='50%'),…"
      ]
     },
     "metadata": {},
     "output_type": "display_data"
    }
   ],
   "source": [
    "from pyspark.sql.functions import col,sum"
   ]
  },
  {
   "cell_type": "code",
   "execution_count": 2,
   "id": "2d9b67f3",
   "metadata": {},
   "outputs": [
    {
     "data": {
      "application/vnd.jupyter.widget-view+json": {
       "model_id": "",
       "version_major": 2,
       "version_minor": 0
      },
      "text/plain": [
       "FloatProgress(value=0.0, bar_style='info', description='Progress:', layout=Layout(height='25px', width='50%'),…"
      ]
     },
     "metadata": {},
     "output_type": "display_data"
    }
   ],
   "source": [
    "#Cargamos el dataframe leyendo los datos desde el S3 directamente\n",
    "covidDF = spark.read.csv('s3://sidluzstella/raw/casos_covid/casos_covid_colombia/', header=True,inferSchema = True, mode=\"DROPMALFORMED\")"
   ]
  },
  {
   "cell_type": "code",
   "execution_count": 3,
   "id": "fd952587",
   "metadata": {},
   "outputs": [
    {
     "data": {
      "application/vnd.jupyter.widget-view+json": {
       "model_id": "",
       "version_major": 2,
       "version_minor": 0
      },
      "text/plain": [
       "FloatProgress(value=0.0, bar_style='info', description='Progress:', layout=Layout(height='25px', width='50%'),…"
      ]
     },
     "metadata": {},
     "output_type": "display_data"
    },
    {
     "name": "stdout",
     "output_type": "stream",
     "text": [
      "Row(fecha reporte web='6/3/2020 0:00:00', ID de caso=1, Fecha de notificación='2/3/2020 0:00:00', Código DIVIPOLA departamento=11, Nombre departamento='BOGOTA', Código DIVIPOLA municipio=11001, Nombre municipio='BOGOTA', Edad=19, Unidad de medida de edad=1, Sexo='F', Tipo de contagio='Importado', Ubicación del caso='Casa', Estado='Leve', Código ISO del país=380, Nombre del país='ITALIA', Recuperado='Recuperado', Fecha de inicio de síntomas='27/2/2020 0:00:00', Fecha de muerte=None, Fecha de diagnóstico='6/3/2020 0:00:00', Fecha de recuperación='13/3/2020 0:00:00', Tipo de recuperación='PCR', Pertenencia étnica=6, Nombre del grupo étnico=None)"
     ]
    }
   ],
   "source": [
    "#Vemos la primera filas del dataframe\n",
    "covidDF.head()"
   ]
  },
  {
   "cell_type": "code",
   "execution_count": 4,
   "id": "ac567fce",
   "metadata": {},
   "outputs": [
    {
     "data": {
      "application/vnd.jupyter.widget-view+json": {
       "model_id": "",
       "version_major": 2,
       "version_minor": 0
      },
      "text/plain": [
       "FloatProgress(value=0.0, bar_style='info', description='Progress:', layout=Layout(height='25px', width='50%'),…"
      ]
     },
     "metadata": {},
     "output_type": "display_data"
    },
    {
     "name": "stdout",
     "output_type": "stream",
     "text": [
      "root\n",
      " |-- fecha reporte web: string (nullable = true)\n",
      " |-- ID de caso: integer (nullable = true)\n",
      " |-- Fecha de notificación: string (nullable = true)\n",
      " |-- Código DIVIPOLA departamento: integer (nullable = true)\n",
      " |-- Nombre departamento: string (nullable = true)\n",
      " |-- Código DIVIPOLA municipio: integer (nullable = true)\n",
      " |-- Nombre municipio: string (nullable = true)\n",
      " |-- Edad: integer (nullable = true)\n",
      " |-- Unidad de medida de edad: integer (nullable = true)\n",
      " |-- Sexo: string (nullable = true)\n",
      " |-- Tipo de contagio: string (nullable = true)\n",
      " |-- Ubicación del caso: string (nullable = true)\n",
      " |-- Estado: string (nullable = true)\n",
      " |-- Código ISO del país: integer (nullable = true)\n",
      " |-- Nombre del país: string (nullable = true)\n",
      " |-- Recuperado: string (nullable = true)\n",
      " |-- Fecha de inicio de síntomas: string (nullable = true)\n",
      " |-- Fecha de muerte: string (nullable = true)\n",
      " |-- Fecha de diagnóstico: string (nullable = true)\n",
      " |-- Fecha de recuperación: string (nullable = true)\n",
      " |-- Tipo de recuperación: string (nullable = true)\n",
      " |-- Pertenencia étnica: integer (nullable = true)\n",
      " |-- Nombre del grupo étnico: string (nullable = true)"
     ]
    }
   ],
   "source": [
    "#Revisamos el esquema del dataframe\n",
    "covidDF.printSchema()"
   ]
  },
  {
   "cell_type": "code",
   "execution_count": 5,
   "id": "a0c7c7b1",
   "metadata": {},
   "outputs": [
    {
     "data": {
      "application/vnd.jupyter.widget-view+json": {
       "model_id": "",
       "version_major": 2,
       "version_minor": 0
      },
      "text/plain": [
       "FloatProgress(value=0.0, bar_style='info', description='Progress:', layout=Layout(height='25px', width='50%'),…"
      ]
     },
     "metadata": {},
     "output_type": "display_data"
    },
    {
     "name": "stdout",
     "output_type": "stream",
     "text": [
      "4969131"
     ]
    }
   ],
   "source": [
    "#Revisamos cuantos registros tenemos\n",
    "row_number = covidDF.count()\n",
    "row_number"
   ]
  },
  {
   "cell_type": "code",
   "execution_count": 6,
   "id": "ea5221e1",
   "metadata": {},
   "outputs": [
    {
     "data": {
      "application/vnd.jupyter.widget-view+json": {
       "model_id": "",
       "version_major": 2,
       "version_minor": 0
      },
      "text/plain": [
       "FloatProgress(value=0.0, bar_style='info', description='Progress:', layout=Layout(height='25px', width='50%'),…"
      ]
     },
     "metadata": {},
     "output_type": "display_data"
    },
    {
     "name": "stdout",
     "output_type": "stream",
     "text": [
      "23"
     ]
    }
   ],
   "source": [
    "#Revisamos cuantas columnas tenemos\n",
    "column_number = len(covidDF.dtypes)\n",
    "column_number"
   ]
  },
  {
   "cell_type": "code",
   "execution_count": 7,
   "id": "d366f9bc",
   "metadata": {},
   "outputs": [
    {
     "data": {
      "application/vnd.jupyter.widget-view+json": {
       "model_id": "",
       "version_major": 2,
       "version_minor": 0
      },
      "text/plain": [
       "FloatProgress(value=0.0, bar_style='info', description='Progress:', layout=Layout(height='25px', width='50%'),…"
      ]
     },
     "metadata": {},
     "output_type": "display_data"
    },
    {
     "name": "stdout",
     "output_type": "stream",
     "text": [
      "100000"
     ]
    }
   ],
   "source": [
    "#Para fines del ejercicio tomamos un subconjunto de los datos\n",
    "covidDF1 = covidDF.sort('ID de caso').limit(100000)\n",
    "row_number = covidDF1.count()\n",
    "row_number"
   ]
  },
  {
   "cell_type": "code",
   "execution_count": 8,
   "id": "c853be32",
   "metadata": {},
   "outputs": [
    {
     "data": {
      "application/vnd.jupyter.widget-view+json": {
       "model_id": "",
       "version_major": 2,
       "version_minor": 0
      },
      "text/plain": [
       "FloatProgress(value=0.0, bar_style='info', description='Progress:', layout=Layout(height='25px', width='50%'),…"
      ]
     },
     "metadata": {},
     "output_type": "display_data"
    },
    {
     "name": "stdout",
     "output_type": "stream",
     "text": [
      "23"
     ]
    }
   ],
   "source": [
    "#Quedamos con las mismas columnas\n",
    "column_number = len(covidDF1.dtypes)\n",
    "column_number"
   ]
  },
  {
   "cell_type": "code",
   "execution_count": 9,
   "id": "c164523e",
   "metadata": {},
   "outputs": [
    {
     "data": {
      "application/vnd.jupyter.widget-view+json": {
       "model_id": "",
       "version_major": 2,
       "version_minor": 0
      },
      "text/plain": [
       "FloatProgress(value=0.0, bar_style='info', description='Progress:', layout=Layout(height='25px', width='50%'),…"
      ]
     },
     "metadata": {},
     "output_type": "display_data"
    },
    {
     "name": "stdout",
     "output_type": "stream",
     "text": [
      "+-------+-----------------+------------------+---------------------+----------------------------+-------------------+-------------------------+----------------+------------------+------------------------+------+----------------+------------------+---------+-------------------+---------------+----------+---------------------------+----------------+--------------------+---------------------+--------------------+------------------+-----------------------+\n",
      "|summary|fecha reporte web|        ID de caso|Fecha de notificación|Código DIVIPOLA departamento|Nombre departamento|Código DIVIPOLA municipio|Nombre municipio|              Edad|Unidad de medida de edad|  Sexo|Tipo de contagio|Ubicación del caso|   Estado|Código ISO del país|Nombre del país|Recuperado|Fecha de inicio de síntomas| Fecha de muerte|Fecha de diagnóstico|Fecha de recuperación|Tipo de recuperación|Pertenencia étnica|Nombre del grupo étnico|\n",
      "+-------+-----------------+------------------+---------------------+----------------------------+-------------------+-------------------------+----------------+------------------+------------------------+------+----------------+------------------+---------+-------------------+---------------+----------+---------------------------+----------------+--------------------+---------------------+--------------------+------------------+-----------------------+\n",
      "|  count|           100000|            100000|               100000|                      100000|             100000|                   100000|          100000|            100000|                  100000|100000|          100000|            100000|   100000|                912|            912|    100000|                      91615|            5633|               97693|                94832|               94832|            100000|                   5658|\n",
      "|   mean|             null|       50038.74855|                 null|                   2631.6288|               null|              25327.34487|            null|          39.30175|                 1.00637|  null|            null|              null|     null|  596.3475877192982|           null|      null|                       null|            null|                null|                 null|                null|           5.57697|                   null|\n",
      "| stddev|             null|28870.559312724607|                 null|           6172.660309006445|               null|       25830.580807180402|            null|18.420127848324064|     0.08893538213232119|  null|            null|              null|     null| 255.56508665655986|           null|      null|                       null|            null|                null|                 null|                null|1.1828227296582021|                   null|\n",
      "|    min| 1/4/2020 0:00:00|                 1|     1/4/2020 0:00:00|                           5|           AMAZONAS|                     5001|          ABREGO|                 1|                       1|     F|     Comunitaria|              Casa|Fallecido|                 32|       ALEMANIA| Fallecido|           1/3/2020 0:00:00|1/1/2021 0:00:00|    1/4/2020 0:00:00|     1/1/2021 0:00:00|                 PCR|                 1|                 AMBALO|\n",
      "|    max| 9/6/2020 0:00:00|            100040|     9/7/2020 0:00:00|                       47001|            VICHADA|                    99001| puerto COLOMBIA|               104|                       3|     M|     Relacionado|               N/A|      N/A|                862|      VENEZUELA| fallecido|           9/7/2020 0:00:00|9/9/2020 0:00:00|    9/9/2020 0:00:00|     9/8/2020 0:00:00|              Tiempo|                 6|                   ZENU|\n",
      "+-------+-----------------+------------------+---------------------+----------------------------+-------------------+-------------------------+----------------+------------------+------------------------+------+----------------+------------------+---------+-------------------+---------------+----------+---------------------------+----------------+--------------------+---------------------+--------------------+------------------+-----------------------+"
     ]
    }
   ],
   "source": [
    "#Revisemos las columnas del dataframe\n",
    "covidDF1.describe().show()"
   ]
  },
  {
   "cell_type": "code",
   "execution_count": 10,
   "id": "036dff2d",
   "metadata": {},
   "outputs": [
    {
     "data": {
      "application/vnd.jupyter.widget-view+json": {
       "model_id": "",
       "version_major": 2,
       "version_minor": 0
      },
      "text/plain": [
       "FloatProgress(value=0.0, bar_style='info', description='Progress:', layout=Layout(height='25px', width='50%'),…"
      ]
     },
     "metadata": {},
     "output_type": "display_data"
    },
    {
     "name": "stdout",
     "output_type": "stream",
     "text": [
      "+-----------------+----------+---------------------+----------------------------+-------------------+-------------------------+----------------+----+------------------------+----+----------------+------------------+------+-------------------+---------------+----------+---------------------------+---------------+--------------------+---------------------+--------------------+------------------+-----------------------+\n",
      "|fecha reporte web|ID de caso|Fecha de notificación|Código DIVIPOLA departamento|Nombre departamento|Código DIVIPOLA municipio|Nombre municipio|Edad|Unidad de medida de edad|Sexo|Tipo de contagio|Ubicación del caso|Estado|Código ISO del país|Nombre del país|Recuperado|Fecha de inicio de síntomas|Fecha de muerte|Fecha de diagnóstico|Fecha de recuperación|Tipo de recuperación|Pertenencia étnica|Nombre del grupo étnico|\n",
      "+-----------------+----------+---------------------+----------------------------+-------------------+-------------------------+----------------+----+------------------------+----+----------------+------------------+------+-------------------+---------------+----------+---------------------------+---------------+--------------------+---------------------+--------------------+------------------+-----------------------+\n",
      "|                0|         0|                    0|                           0|                  0|                        0|               0|   0|                       0|   0|               0|                 0|     0|              99088|          99088|         0|                       8385|          94367|                2307|                 5168|                5168|                 0|                  94342|\n",
      "+-----------------+----------+---------------------+----------------------------+-------------------+-------------------------+----------------+----+------------------------+----+----------------+------------------+------+-------------------+---------------+----------+---------------------------+---------------+--------------------+---------------------+--------------------+------------------+-----------------------+"
     ]
    }
   ],
   "source": [
    "#Revisemos valores faltantes\n",
    "covidDF1.select(*(sum(col(c).isNull().cast(\"int\")).alias(c) for c in covidDF1.columns)).show()"
   ]
  },
  {
   "cell_type": "markdown",
   "id": "5e0b3264",
   "metadata": {},
   "source": [
    "Vemos que varias columnas tienes valores faltantes"
   ]
  },
  {
   "cell_type": "markdown",
   "id": "7f7981bf",
   "metadata": {},
   "source": [
    "### Revisemos algunas variables"
   ]
  },
  {
   "cell_type": "code",
   "execution_count": 11,
   "id": "20c998f5",
   "metadata": {},
   "outputs": [
    {
     "data": {
      "application/vnd.jupyter.widget-view+json": {
       "model_id": "",
       "version_major": 2,
       "version_minor": 0
      },
      "text/plain": [
       "FloatProgress(value=0.0, bar_style='info', description='Progress:', layout=Layout(height='25px', width='50%'),…"
      ]
     },
     "metadata": {},
     "output_type": "display_data"
    },
    {
     "name": "stdout",
     "output_type": "stream",
     "text": [
      "+-------+----------------------------+-------------------------+------------------+-------------------+------------------+\n",
      "|summary|Código DIVIPOLA departamento|Código DIVIPOLA municipio|              Edad|Código ISO del país|Pertenencia étnica|\n",
      "+-------+----------------------------+-------------------------+------------------+-------------------+------------------+\n",
      "|  count|                      100000|                   100000|            100000|                912|            100000|\n",
      "|   mean|                   2631.6288|              25327.34487|          39.30175|  596.3475877192982|           5.57697|\n",
      "| stddev|           6172.660309006445|       25830.580807180402|18.420127848324064| 255.56508665655986|1.1828227296582021|\n",
      "|    min|                           5|                     5001|                 1|                 32|                 1|\n",
      "|    max|                       47001|                    99001|               104|                862|                 6|\n",
      "+-------+----------------------------+-------------------------+------------------+-------------------+------------------+"
     ]
    }
   ],
   "source": [
    "covidDF1.describe(covidDF1.columns[3], covidDF1.columns[5], covidDF1.columns[7], covidDF1.columns[13], covidDF1.columns[21]).show()"
   ]
  },
  {
   "cell_type": "code",
   "execution_count": 12,
   "id": "89652439",
   "metadata": {},
   "outputs": [
    {
     "data": {
      "application/vnd.jupyter.widget-view+json": {
       "model_id": "",
       "version_major": 2,
       "version_minor": 0
      },
      "text/plain": [
       "FloatProgress(value=0.0, bar_style='info', description='Progress:', layout=Layout(height='25px', width='50%'),…"
      ]
     },
     "metadata": {},
     "output_type": "display_data"
    },
    {
     "name": "stdout",
     "output_type": "stream",
     "text": [
      "+----+-----+\n",
      "|Edad|count|\n",
      "+----+-----+\n",
      "| 101|    1|\n",
      "| 104|    1|\n",
      "| 103|    2|\n",
      "| 102|    2|\n",
      "| 100|   10|\n",
      "|  99|   11|\n",
      "|  98|   12|\n",
      "|  97|   14|\n",
      "|  96|   23|\n",
      "|  95|   32|\n",
      "|  93|   51|\n",
      "|  94|   53|\n",
      "|  92|   70|\n",
      "|  91|   91|\n",
      "|  90|  109|\n",
      "|  89|  117|\n",
      "|  88|  146|\n",
      "|  86|  182|\n",
      "|  87|  184|\n",
      "|  84|  213|\n",
      "+----+-----+\n",
      "only showing top 20 rows"
     ]
    }
   ],
   "source": [
    "#Casos por edad\n",
    "covidDF1.groupBy(\"Edad\").count().sort(\"count\",ascending=True).show()"
   ]
  },
  {
   "cell_type": "code",
   "execution_count": 13,
   "id": "ba1baea3",
   "metadata": {},
   "outputs": [
    {
     "data": {
      "application/vnd.jupyter.widget-view+json": {
       "model_id": "",
       "version_major": 2,
       "version_minor": 0
      },
      "text/plain": [
       "FloatProgress(value=0.0, bar_style='info', description='Progress:', layout=Layout(height='25px', width='50%'),…"
      ]
     },
     "metadata": {},
     "output_type": "display_data"
    },
    {
     "name": "stdout",
     "output_type": "stream",
     "text": [
      "+----+-----+\n",
      "|Sexo|count|\n",
      "+----+-----+\n",
      "|   F|45902|\n",
      "|   M|54098|\n",
      "+----+-----+"
     ]
    }
   ],
   "source": [
    "#Casos por sexo\n",
    "covidDF1.groupBy(\"Sexo\").count().sort(\"count\",ascending=True).show()"
   ]
  },
  {
   "cell_type": "code",
   "execution_count": 14,
   "id": "381505bd",
   "metadata": {},
   "outputs": [
    {
     "data": {
      "application/vnd.jupyter.widget-view+json": {
       "model_id": "",
       "version_major": 2,
       "version_minor": 0
      },
      "text/plain": [
       "FloatProgress(value=0.0, bar_style='info', description='Progress:', layout=Layout(height='25px', width='50%'),…"
      ]
     },
     "metadata": {},
     "output_type": "display_data"
    },
    {
     "name": "stdout",
     "output_type": "stream",
     "text": [
      "+----+-----------------+\n",
      "|Sexo|        avg(Edad)|\n",
      "+----+-----------------+\n",
      "|   F|39.34373229924622|\n",
      "|   M|39.26612813782395|\n",
      "+----+-----------------+"
     ]
    }
   ],
   "source": [
    "#Al agrupar por Sexo, podemos ver que la media de la edad es similar, no se observan diferencias.\n",
    "covidDF1.groupby('Sexo').agg({'Edad': 'mean'}).show()"
   ]
  },
  {
   "cell_type": "code",
   "execution_count": 15,
   "id": "e9dc933c",
   "metadata": {},
   "outputs": [
    {
     "data": {
      "application/vnd.jupyter.widget-view+json": {
       "model_id": "",
       "version_major": 2,
       "version_minor": 0
      },
      "text/plain": [
       "FloatProgress(value=0.0, bar_style='info', description='Progress:', layout=Layout(height='25px', width='50%'),…"
      ]
     },
     "metadata": {},
     "output_type": "display_data"
    },
    {
     "name": "stdout",
     "output_type": "stream",
     "text": [
      "+-------------------+-----+\n",
      "|Nombre departamento|count|\n",
      "+-------------------+-----+\n",
      "|             BOGOTA|30016|\n",
      "|       BARRANQUILLA|13065|\n",
      "|          ATLANTICO|10994|\n",
      "|              VALLE|10404|\n",
      "|          CARTAGENA| 8333|\n",
      "|          ANTIOQUIA| 4554|\n",
      "|             NARIÑO| 3520|\n",
      "|       CUNDINAMARCA| 2827|\n",
      "|           AMAZONAS| 2317|\n",
      "|              CHOCO| 1636|\n",
      "|              SUCRE| 1317|\n",
      "|               META| 1269|\n",
      "|              CESAR| 1056|\n",
      "|     STA MARTA D.E.| 1022|\n",
      "|             TOLIMA| 1013|\n",
      "|            BOLIVAR|  998|\n",
      "|          MAGDALENA|  869|\n",
      "|            CORDOBA|  807|\n",
      "|          SANTANDER|  756|\n",
      "|          RISARALDA|  545|\n",
      "+-------------------+-----+\n",
      "only showing top 20 rows"
     ]
    }
   ],
   "source": [
    "#Casos por departamento, se muestran los departamentos con mas casos, las primeras 20 filas\n",
    "covidDF1.groupBy(covidDF1.columns[4]).count().sort(\"count\",ascending=False).show()"
   ]
  },
  {
   "cell_type": "markdown",
   "id": "919c899f",
   "metadata": {},
   "source": [
    "### Codificamos las variables categóricas "
   ]
  },
  {
   "cell_type": "code",
   "execution_count": 24,
   "id": "9947b63a",
   "metadata": {},
   "outputs": [
    {
     "data": {
      "application/vnd.jupyter.widget-view+json": {
       "model_id": "",
       "version_major": 2,
       "version_minor": 0
      },
      "text/plain": [
       "FloatProgress(value=0.0, bar_style='info', description='Progress:', layout=Layout(height='25px', width='50%'),…"
      ]
     },
     "metadata": {},
     "output_type": "display_data"
    },
    {
     "name": "stdout",
     "output_type": "stream",
     "text": [
      "+-----------------+----------+---------------------+----------------------------+-------------------+-------------------------+----------------+----+------------------------+----+----------------+------------------+------+-------------------+---------------+----------+---------------------------+---------------+--------------------+---------------------+--------------------+------------------+-----------------------+-----------+---------+-------------------+---------------+\n",
      "|fecha reporte web|ID de caso|Fecha de notificación|Código DIVIPOLA departamento|Nombre departamento|Código DIVIPOLA municipio|Nombre municipio|Edad|Unidad de medida de edad|Sexo|Tipo de contagio|Ubicación del caso|Estado|Código ISO del país|Nombre del país|Recuperado|Fecha de inicio de síntomas|Fecha de muerte|Fecha de diagnóstico|Fecha de recuperación|Tipo de recuperación|Pertenencia étnica|Nombre del grupo étnico|EstadoIndex|SexoIndex|TipoDeContagioIndex|RecuperadoIndex|\n",
      "+-----------------+----------+---------------------+----------------------------+-------------------+-------------------------+----------------+----+------------------------+----+----------------+------------------+------+-------------------+---------------+----------+---------------------------+---------------+--------------------+---------------------+--------------------+------------------+-----------------------+-----------+---------+-------------------+---------------+\n",
      "| 6/3/2020 0:00:00|         1|     2/3/2020 0:00:00|                          11|             BOGOTA|                    11001|          BOGOTA|  19|                       1|   F|       Importado|              Casa|  Leve|                380|         ITALIA|Recuperado|          27/2/2020 0:00:00|           null|    6/3/2020 0:00:00|    13/3/2020 0:00:00|                 PCR|                 6|                   null|        0.0|      1.0|                2.0|            0.0|\n",
      "+-----------------+----------+---------------------+----------------------------+-------------------+-------------------------+----------------+----+------------------------+----+----------------+------------------+------+-------------------+---------------+----------+---------------------------+---------------+--------------------+---------------------+--------------------+------------------+-----------------------+-----------+---------+-------------------+---------------+\n",
      "only showing top 1 row"
     ]
    }
   ],
   "source": [
    "from pyspark.ml.feature import StringIndexer\n",
    "\n",
    "indexer = StringIndexer(inputCol='Estado', outputCol='Estado' + \"Index\")\n",
    "covidDF2 = indexer.fit(covidDF1).transform(covidDF1)\n",
    "\n",
    "indexer = StringIndexer(inputCol='Sexo', outputCol='Sexo' + \"Index\")\n",
    "covidDF3 = indexer.fit(covidDF2).transform(covidDF2)\n",
    "\n",
    "indexer = StringIndexer(inputCol=covidDF1.columns[10], outputCol='TipoDeContagio' + \"Index\")\n",
    "covidDF4 = indexer.fit(covidDF3).transform(covidDF3)\n",
    "\n",
    "indexer = StringIndexer(inputCol=covidDF1.columns[15], outputCol=covidDF1.columns[15] + \"Index\")\n",
    "covidDF5 = indexer.fit(covidDF4).transform(covidDF4)\n",
    "\n",
    "covidDF5.show(1)"
   ]
  },
  {
   "cell_type": "markdown",
   "id": "00e78ed2",
   "metadata": {},
   "source": [
    "## Correlación entre variables"
   ]
  },
  {
   "cell_type": "code",
   "execution_count": 25,
   "id": "1e42fbf5",
   "metadata": {},
   "outputs": [
    {
     "data": {
      "application/vnd.jupyter.widget-view+json": {
       "model_id": "",
       "version_major": 2,
       "version_minor": 0
      },
      "text/plain": [
       "FloatProgress(value=0.0, bar_style='info', description='Progress:', layout=Layout(height='25px', width='50%'),…"
      ]
     },
     "metadata": {},
     "output_type": "display_data"
    },
    {
     "name": "stdout",
     "output_type": "stream",
     "text": [
      "[[ 1.00000000e+00  2.74655555e-02  3.02410687e-02  1.88762296e-02\n",
      "  -1.88084564e-03 -1.76382235e-01  2.47597429e-02]\n",
      " [ 2.74655555e-02  1.00000000e+00  1.78514654e-02  3.32824644e-01\n",
      "   2.09942783e-03 -1.16811177e-01  3.28750345e-01]\n",
      " [ 3.02410687e-02  1.78514654e-02  1.00000000e+00  4.52124839e-03\n",
      "   1.34421595e-04 -2.28287770e-02  3.97949806e-03]\n",
      " [ 1.88762296e-02  3.32824644e-01  4.52124839e-03  1.00000000e+00\n",
      "  -3.13570104e-02 -8.78903567e-02  8.77083964e-01]\n",
      " [-1.88084564e-03  2.09942783e-03  1.34421595e-04 -3.13570104e-02\n",
      "   1.00000000e+00 -2.28154373e-02 -3.36816459e-02]\n",
      " [-1.76382235e-01 -1.16811177e-01 -2.28287770e-02 -8.78903567e-02\n",
      "  -2.28154373e-02  1.00000000e+00 -9.78788846e-02]\n",
      " [ 2.47597429e-02  3.28750345e-01  3.97949806e-03  8.77083964e-01\n",
      "  -3.36816459e-02 -9.78788846e-02  1.00000000e+00]]"
     ]
    }
   ],
   "source": [
    "from pyspark.mllib.stat import Statistics\n",
    "\n",
    "# select variables to check correlation\n",
    "df_features = covidDF5.select(covidDF5.columns[3],\"Edad\",covidDF5.columns[21],'EstadoIndex','SexoIndex','TipoDeContagioIndex','RecuperadoIndex') \n",
    "\n",
    "# create RDD table for correlation calculation\n",
    "rdd_table = df_features.rdd.map(lambda row: row[0:])\n",
    "\n",
    "# get the correlation matrix\n",
    "corr_mat=Statistics.corr(rdd_table, method=\"pearson\")\n",
    "print(corr_mat)"
   ]
  },
  {
   "cell_type": "markdown",
   "id": "16ffd763",
   "metadata": {},
   "source": [
    "Solo encontramos fuerte correlación entre el estado y Recuperado"
   ]
  },
  {
   "cell_type": "markdown",
   "id": "9d7a976f",
   "metadata": {},
   "source": [
    "### Validar queries en SQL"
   ]
  },
  {
   "cell_type": "code",
   "execution_count": 29,
   "id": "d8984689",
   "metadata": {},
   "outputs": [
    {
     "data": {
      "application/vnd.jupyter.widget-view+json": {
       "model_id": "",
       "version_major": 2,
       "version_minor": 0
      },
      "text/plain": [
       "FloatProgress(value=0.0, bar_style='info', description='Progress:', layout=Layout(height='25px', width='50%'),…"
      ]
     },
     "metadata": {},
     "output_type": "display_data"
    },
    {
     "name": "stdout",
     "output_type": "stream",
     "text": [
      "+-----------------+----------+---------------------+----------------------------+-------------------+-------------------------+----------------+----+------------------------+----+----------------+------------------+---------+-------------------+---------------+----------+---------------------------+-----------------+--------------------+---------------------+--------------------+------------------+-----------------------+-----------+---------+-------------------+---------------+\n",
      "|fecha reporte web|ID de caso|Fecha de notificación|Código DIVIPOLA departamento|Nombre departamento|Código DIVIPOLA municipio|Nombre municipio|Edad|Unidad de medida de edad|Sexo|Tipo de contagio|Ubicación del caso|   Estado|Código ISO del país|Nombre del país|Recuperado|Fecha de inicio de síntomas|  Fecha de muerte|Fecha de diagnóstico|Fecha de recuperación|Tipo de recuperación|Pertenencia étnica|Nombre del grupo étnico|EstadoIndex|SexoIndex|TipoDeContagioIndex|RecuperadoIndex|\n",
      "+-----------------+----------+---------------------+----------------------------+-------------------+-------------------------+----------------+----+------------------------+----+----------------+------------------+---------+-------------------+---------------+----------+---------------------------+-----------------+--------------------+---------------------+--------------------+------------------+-----------------------+-----------+---------+-------------------+---------------+\n",
      "|19/4/2020 0:00:00|      3758|    12/4/2020 0:00:00|                          11|             BOGOTA|                    11001|          BOGOTA| 103|                       1|   F|     Comunitaria|         Fallecido|Fallecido|               null|           null| Fallecido|          11/4/2020 0:00:00|13/8/2020 0:00:00|   19/4/2020 0:00:00|                 null|                null|                 6|                   null|        1.0|      1.0|                0.0|            1.0|\n",
      "|31/5/2020 0:00:00|     28922|    20/5/2020 0:00:00|                       13001|          CARTAGENA|                    13001|       CARTAGENA| 103|                       1|   F|     Comunitaria|         Fallecido|Fallecido|               null|           null| Fallecido|          16/5/2020 0:00:00|28/5/2020 0:00:00|   31/5/2020 0:00:00|                 null|                null|                 6|                   null|        1.0|      1.0|                0.0|            1.0|\n",
      "| 7/6/2020 0:00:00|     38701|    28/5/2020 0:00:00|                          76|              VALLE|                    76364|         JAMUNDI| 102|                       1|   F|     Comunitaria|         Fallecido|Fallecido|               null|           null| Fallecido|          25/5/2020 0:00:00|28/5/2020 0:00:00|    7/6/2020 0:00:00|                 null|                null|                 5|                   null|        1.0|      1.0|                0.0|            1.0|\n",
      "| 8/6/2020 0:00:00|     40699|     4/6/2020 0:00:00|                           8|          ATLANTICO|                     8078|         BARANOA| 102|                       1|   F|     Comunitaria|              Casa|     Leve|               null|           null|Recuperado|           4/6/2020 0:00:00|             null|    8/6/2020 0:00:00|     8/7/2020 0:00:00|                 PCR|                 5|                   null|        0.0|      1.0|                0.0|            0.0|\n",
      "|13/6/2020 0:00:00|     47244|     5/6/2020 0:00:00|                          52|             NARIÑO|                    52835|          TUMACO| 101|                       1|   M|     Comunitaria|               N/A|      N/A|               null|           null|Recuperado|          30/5/2020 0:00:00| 4/4/2021 0:00:00|   13/6/2020 0:00:00|    16/7/2020 0:00:00|                 PCR|                 5|                   null|        2.0|      0.0|                0.0|            0.0|\n",
      "|15/6/2020 0:00:00|     51927|     9/6/2020 0:00:00|                        8001|       BARRANQUILLA|                     8001|    BARRANQUILLA| 104|                       1|   F|     Comunitaria|              Casa|     Leve|               null|           null|Recuperado|          29/5/2020 0:00:00|             null|   14/6/2020 0:00:00|     1/7/2020 0:00:00|              Tiempo|                 6|                   null|        0.0|      1.0|                0.0|            0.0|\n",
      "+-----------------+----------+---------------------+----------------------------+-------------------+-------------------------+----------------+----+------------------------+----+----------------+------------------+---------+-------------------+---------------+----------+---------------------------+-----------------+--------------------+---------------------+--------------------+------------------+-----------------------+-----------+---------+-------------------+---------------+"
     ]
    }
   ],
   "source": [
    "from pyspark.ml.feature import SQLTransformer\n",
    "\n",
    "#Consultemos los datos de las personas mayores de 100 años\n",
    "sqlTrans = SQLTransformer(\n",
    "    statement=\"SELECT * FROM __THIS__ where Edad > 100\")\n",
    "sqlTrans.transform(covidDF5).show()"
   ]
  },
  {
   "cell_type": "code",
   "execution_count": null,
   "id": "b808207e",
   "metadata": {},
   "outputs": [],
   "source": []
  }
 ],
 "metadata": {
  "kernelspec": {
   "display_name": "PySpark",
   "language": "python",
   "name": "pysparkkernel"
  },
  "language_info": {
   "codemirror_mode": {
    "name": "python",
    "version": 3
   },
   "file_extension": ".py",
   "mimetype": "text/x-python",
   "name": "pyspark",
   "pygments_lexer": "python3"
  }
 },
 "nbformat": 4,
 "nbformat_minor": 5
}
