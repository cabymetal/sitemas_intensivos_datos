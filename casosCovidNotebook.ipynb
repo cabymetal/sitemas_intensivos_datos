{
 "cells": [
  {
   "cell_type": "markdown",
   "id": "aa4d2d0d",
   "metadata": {},
   "source": [
    "## Laboratorio 2-3 AWS-hadoop-spark"
   ]
  },
  {
   "cell_type": "markdown",
   "id": "313c2189",
   "metadata": {},
   "source": [
    "### EDA Casos covid Colombia"
   ]
  },
  {
   "cell_type": "code",
   "execution_count": 1,
   "id": "2d9b67f3",
   "metadata": {},
   "outputs": [
    {
     "name": "stdout",
     "output_type": "stream",
     "text": [
      "Starting Spark application\n"
     ]
    },
    {
     "data": {
      "text/html": [
       "<table>\n",
       "<tr><th>ID</th><th>YARN Application ID</th><th>Kind</th><th>State</th><th>Spark UI</th><th>Driver log</th><th>User</th><th>Current session?</th></tr><tr><td>1</td><td>application_1633793432130_0004</td><td>pyspark</td><td>idle</td><td><a target=\"_blank\" href=\"http://ip-172-31-70-123.ec2.internal:20888/proxy/application_1633793432130_0004/\">Link</a></td><td><a target=\"_blank\" href=\"http://ip-172-31-72-237.ec2.internal:8042/node/containerlogs/container_1633793432130_0004_01_000001/livy\">Link</a></td><td>None</td><td>✔</td></tr></table>"
      ],
      "text/plain": [
       "<IPython.core.display.HTML object>"
      ]
     },
     "metadata": {},
     "output_type": "display_data"
    },
    {
     "data": {
      "application/vnd.jupyter.widget-view+json": {
       "model_id": "",
       "version_major": 2,
       "version_minor": 0
      },
      "text/plain": [
       "FloatProgress(value=0.0, bar_style='info', description='Progress:', layout=Layout(height='25px', width='50%'),…"
      ]
     },
     "metadata": {},
     "output_type": "display_data"
    },
    {
     "name": "stdout",
     "output_type": "stream",
     "text": [
      "SparkSession available as 'spark'.\n"
     ]
    },
    {
     "data": {
      "application/vnd.jupyter.widget-view+json": {
       "model_id": "",
       "version_major": 2,
       "version_minor": 0
      },
      "text/plain": [
       "FloatProgress(value=0.0, bar_style='info', description='Progress:', layout=Layout(height='25px', width='50%'),…"
      ]
     },
     "metadata": {},
     "output_type": "display_data"
    }
   ],
   "source": [
    "#Cargamos el dataframe leyendo los datos desde el S3 directamente\n",
    "covidDF = spark.read.csv('s3://sidluzstella/raw/casos_covid/casos_covid_colombia/', header=True)"
   ]
  },
  {
   "cell_type": "code",
   "execution_count": 2,
   "id": "fd952587",
   "metadata": {},
   "outputs": [
    {
     "data": {
      "application/vnd.jupyter.widget-view+json": {
       "model_id": "",
       "version_major": 2,
       "version_minor": 0
      },
      "text/plain": [
       "FloatProgress(value=0.0, bar_style='info', description='Progress:', layout=Layout(height='25px', width='50%'),…"
      ]
     },
     "metadata": {},
     "output_type": "display_data"
    },
    {
     "name": "stdout",
     "output_type": "stream",
     "text": [
      "Row(fecha reporte web='6/3/2020 0:00:00', ID de caso='1', Fecha de notificación='2/3/2020 0:00:00', Código DIVIPOLA departamento='11', Nombre departamento='BOGOTA', Código DIVIPOLA municipio='11001', Nombre municipio='BOGOTA', Edad='19', Unidad de medida de edad='1', Sexo='F', Tipo de contagio='Importado', Ubicación del caso='Casa', Estado='Leve', Código ISO del país='380', Nombre del país='ITALIA', Recuperado='Recuperado', Fecha de inicio de síntomas='27/2/2020 0:00:00', Fecha de muerte=None, Fecha de diagnóstico='6/3/2020 0:00:00', Fecha de recuperación='13/3/2020 0:00:00', Tipo de recuperación='PCR', Pertenencia étnica='6', Nombre del grupo étnico=None)"
     ]
    }
   ],
   "source": [
    "#Vemos la primera filas del dataframe\n",
    "covidDF.head()"
   ]
  },
  {
   "cell_type": "code",
   "execution_count": 7,
   "id": "4b75c3b2",
   "metadata": {},
   "outputs": [
    {
     "data": {
      "application/vnd.jupyter.widget-view+json": {
       "model_id": "",
       "version_major": 2,
       "version_minor": 0
      },
      "text/plain": [
       "FloatProgress(value=0.0, bar_style='info', description='Progress:', layout=Layout(height='25px', width='50%'),…"
      ]
     },
     "metadata": {},
     "output_type": "display_data"
    },
    {
     "name": "stdout",
     "output_type": "stream",
     "text": [
      "4969131"
     ]
    }
   ],
   "source": [
    "#Revisamos cuantos registros tenemos\n",
    "row_number = covidDF.count()\n",
    "row_number"
   ]
  },
  {
   "cell_type": "code",
   "execution_count": 8,
   "id": "71b96c97",
   "metadata": {},
   "outputs": [
    {
     "data": {
      "application/vnd.jupyter.widget-view+json": {
       "model_id": "",
       "version_major": 2,
       "version_minor": 0
      },
      "text/plain": [
       "FloatProgress(value=0.0, bar_style='info', description='Progress:', layout=Layout(height='25px', width='50%'),…"
      ]
     },
     "metadata": {},
     "output_type": "display_data"
    },
    {
     "name": "stdout",
     "output_type": "stream",
     "text": [
      "23"
     ]
    }
   ],
   "source": [
    "#Revisamos cuantas columnas tenemos\n",
    "column_number = len(covidDF.dtypes)\n",
    "column_number"
   ]
  },
  {
   "cell_type": "code",
   "execution_count": 14,
   "id": "e0bc9d25",
   "metadata": {},
   "outputs": [
    {
     "data": {
      "application/vnd.jupyter.widget-view+json": {
       "model_id": "",
       "version_major": 2,
       "version_minor": 0
      },
      "text/plain": [
       "FloatProgress(value=0.0, bar_style='info', description='Progress:', layout=Layout(height='25px', width='50%'),…"
      ]
     },
     "metadata": {},
     "output_type": "display_data"
    }
   ],
   "source": [
    "#Para fines del ejercicio tomamos un subconjunto de los datos\n",
    "covidDF1 = covidDF.sort('ID de caso').limit(100000)"
   ]
  },
  {
   "cell_type": "code",
   "execution_count": 15,
   "id": "113b5934",
   "metadata": {},
   "outputs": [
    {
     "data": {
      "application/vnd.jupyter.widget-view+json": {
       "model_id": "",
       "version_major": 2,
       "version_minor": 0
      },
      "text/plain": [
       "FloatProgress(value=0.0, bar_style='info', description='Progress:', layout=Layout(height='25px', width='50%'),…"
      ]
     },
     "metadata": {},
     "output_type": "display_data"
    },
    {
     "name": "stdout",
     "output_type": "stream",
     "text": [
      "100000"
     ]
    }
   ],
   "source": [
    "row_number = covidDF1.count()\n",
    "row_number"
   ]
  },
  {
   "cell_type": "code",
   "execution_count": 12,
   "id": "de23bb87",
   "metadata": {},
   "outputs": [
    {
     "data": {
      "application/vnd.jupyter.widget-view+json": {
       "model_id": "",
       "version_major": 2,
       "version_minor": 0
      },
      "text/plain": [
       "FloatProgress(value=0.0, bar_style='info', description='Progress:', layout=Layout(height='25px', width='50%'),…"
      ]
     },
     "metadata": {},
     "output_type": "display_data"
    },
    {
     "name": "stdout",
     "output_type": "stream",
     "text": [
      "23"
     ]
    }
   ],
   "source": [
    "column_number = len(covidDF1.dtypes)\n",
    "column_number"
   ]
  },
  {
   "cell_type": "code",
   "execution_count": 13,
   "id": "c164523e",
   "metadata": {},
   "outputs": [
    {
     "data": {
      "application/vnd.jupyter.widget-view+json": {
       "model_id": "",
       "version_major": 2,
       "version_minor": 0
      },
      "text/plain": [
       "FloatProgress(value=0.0, bar_style='info', description='Progress:', layout=Layout(height='25px', width='50%'),…"
      ]
     },
     "metadata": {},
     "output_type": "display_data"
    },
    {
     "name": "stdout",
     "output_type": "stream",
     "text": [
      "+-------+-----------------+-----------------+---------------------+----------------------------+-------------------+-------------------------+----------------+-----------------+------------------------+------+----------------+------------------+---------+-------------------+---------------+----------+---------------------------+----------------+--------------------+---------------------+--------------------+------------------+-----------------------+\n",
      "|summary|fecha reporte web|       ID de caso|Fecha de notificación|Código DIVIPOLA departamento|Nombre departamento|Código DIVIPOLA municipio|Nombre municipio|             Edad|Unidad de medida de edad|  Sexo|Tipo de contagio|Ubicación del caso|   Estado|Código ISO del país|Nombre del país|Recuperado|Fecha de inicio de síntomas| Fecha de muerte|Fecha de diagnóstico|Fecha de recuperación|Tipo de recuperación|Pertenencia étnica|Nombre del grupo étnico|\n",
      "+-------+-----------------+-----------------+---------------------+----------------------------+-------------------+-------------------------+----------------+-----------------+------------------------+------+----------------+------------------+---------+-------------------+---------------+----------+---------------------------+----------------+--------------------+---------------------+--------------------+------------------+-----------------------+\n",
      "|  count|           500000|           500000|               500000|                      500000|             500000|                   500000|          500000|           500000|                  500000|500000|          500000|            500000|   500000|                910|            910|    500000|                     460307|           14643|              499143|               485744|              485744|            500000|                   6998|\n",
      "|   mean|             null|   1113632.963654|                 null|                 1066.741494|               null|             30778.871554|            null|        40.079616|                1.004016|  null|            null|              null|     null|  601.9703296703296|           null|      null|                       null|            null|                null|                 null|                null|          5.906462|                   null|\n",
      "| stddev|             null|356277.5247153305|                 null|           5118.979067064304|               null|        27318.62839366802|            null|17.99562416193239|     0.06893389041511001|  null|            null|              null|     null| 280.00276243903113|           null|      null|                       null|            null|                null|                 null|                null|0.6058856135862131|                   null|\n",
      "|    min|1/11/2020 0:00:00|                1|    1/10/2020 0:00:00|                          11|           AMAZONAS|                    11001|       ABEJORRAL|                1|                       1|     F|     Comunitaria|              CASA|Fallecido|                112|     AFGANISTÁN| Fallecido|          1/10/2020 0:00:00|1/1/2021 0:00:00|   1/10/2020 0:00:00|     1/1/2021 0:00:00|                 PCR|                 1|                ACHAGUA|\n",
      "|    max| 9/7/2020 0:00:00|          1449998|     9/9/2020 0:00:00|                          99|            VICHADA|                    99773|   ZONA BANANERA|               99|                       3|     M|     Relacionado|              casa|     leve|                862|      VENEZUELA| fallecido|           9/9/2020 0:00:00|9/9/2020 0:00:00|    9/9/2020 0:00:00|     9/8/2020 0:00:00|              Tiempo|                 6|                   ZENU|\n",
      "+-------+-----------------+-----------------+---------------------+----------------------------+-------------------+-------------------------+----------------+-----------------+------------------------+------+----------------+------------------+---------+-------------------+---------------+----------+---------------------------+----------------+--------------------+---------------------+--------------------+------------------+-----------------------+"
     ]
    }
   ],
   "source": [
    "#Revisemos las columnas del dataframe\n",
    "covidDF1.describe().show()"
   ]
  },
  {
   "cell_type": "markdown",
   "id": "80585595",
   "metadata": {},
   "source": [
    "### Revisemos algunas variables"
   ]
  },
  {
   "cell_type": "code",
   "execution_count": 20,
   "id": "20c998f5",
   "metadata": {},
   "outputs": [
    {
     "data": {
      "application/vnd.jupyter.widget-view+json": {
       "model_id": "",
       "version_major": 2,
       "version_minor": 0
      },
      "text/plain": [
       "FloatProgress(value=0.0, bar_style='info', description='Progress:', layout=Layout(height='25px', width='50%'),…"
      ]
     },
     "metadata": {},
     "output_type": "display_data"
    },
    {
     "name": "stdout",
     "output_type": "stream",
     "text": [
      "+-------+------+\n",
      "|summary|  Sexo|\n",
      "+-------+------+\n",
      "|  count|100000|\n",
      "|   mean|  null|\n",
      "| stddev|  null|\n",
      "|    min|     F|\n",
      "|    max|     M|\n",
      "+-------+------+"
     ]
    }
   ],
   "source": [
    "covidDF1.select('Sexo').describe().show()"
   ]
  },
  {
   "cell_type": "code",
   "execution_count": 25,
   "id": "0d843836",
   "metadata": {},
   "outputs": [
    {
     "data": {
      "application/vnd.jupyter.widget-view+json": {
       "model_id": "",
       "version_major": 2,
       "version_minor": 0
      },
      "text/plain": [
       "FloatProgress(value=0.0, bar_style='info', description='Progress:', layout=Layout(height='25px', width='50%'),…"
      ]
     },
     "metadata": {},
     "output_type": "display_data"
    },
    {
     "name": "stderr",
     "output_type": "stream",
     "text": [
      "An error was encountered:\n",
      "invalid syntax (<stdin>, line 1)\n",
      "  File \"<stdin>\", line 1\n",
      "    covidDF1.describe([?Sexo?]).show()\n",
      "                       ^\n",
      "SyntaxError: invalid syntax\n",
      "\n"
     ]
    }
   ],
   "source": []
  },
  {
   "cell_type": "code",
   "execution_count": 21,
   "id": "c5994e31",
   "metadata": {},
   "outputs": [
    {
     "data": {
      "application/vnd.jupyter.widget-view+json": {
       "model_id": "",
       "version_major": 2,
       "version_minor": 0
      },
      "text/plain": [
       "FloatProgress(value=0.0, bar_style='info', description='Progress:', layout=Layout(height='25px', width='50%'),…"
      ]
     },
     "metadata": {},
     "output_type": "display_data"
    },
    {
     "name": "stdout",
     "output_type": "stream",
     "text": [
      "+-------+---------+\n",
      "|summary|   Estado|\n",
      "+-------+---------+\n",
      "|  count|   100000|\n",
      "|   mean|     null|\n",
      "| stddev|     null|\n",
      "|    min|Fallecido|\n",
      "|    max|      N/A|\n",
      "+-------+---------+"
     ]
    }
   ],
   "source": [
    "covidDF1.select('Estado').describe().show()"
   ]
  },
  {
   "cell_type": "code",
   "execution_count": 22,
   "id": "5acd4727",
   "metadata": {},
   "outputs": [
    {
     "data": {
      "application/vnd.jupyter.widget-view+json": {
       "model_id": "",
       "version_major": 2,
       "version_minor": 0
      },
      "text/plain": [
       "FloatProgress(value=0.0, bar_style='info', description='Progress:', layout=Layout(height='25px', width='50%'),…"
      ]
     },
     "metadata": {},
     "output_type": "display_data"
    },
    {
     "name": "stdout",
     "output_type": "stream",
     "text": [
      "+-------+------------------+\n",
      "|summary|              Edad|\n",
      "+-------+------------------+\n",
      "|  count|            100000|\n",
      "|   mean|          39.88447|\n",
      "| stddev|17.797927701881573|\n",
      "|    min|                 1|\n",
      "|    max|                99|\n",
      "+-------+------------------+"
     ]
    }
   ],
   "source": [
    "covidDF1.select('Edad').describe().show()"
   ]
  },
  {
   "cell_type": "code",
   "execution_count": 24,
   "id": "191dfaa1",
   "metadata": {},
   "outputs": [
    {
     "data": {
      "application/vnd.jupyter.widget-view+json": {
       "model_id": "",
       "version_major": 2,
       "version_minor": 0
      },
      "text/plain": [
       "FloatProgress(value=0.0, bar_style='info', description='Progress:', layout=Layout(height='25px', width='50%'),…"
      ]
     },
     "metadata": {},
     "output_type": "display_data"
    },
    {
     "name": "stderr",
     "output_type": "stream",
     "text": [
      "An error was encountered:\n",
      "name 'display' is not defined\n",
      "Traceback (most recent call last):\n",
      "NameError: name 'display' is not defined\n",
      "\n"
     ]
    }
   ],
   "source": []
  },
  {
   "cell_type": "code",
   "execution_count": null,
   "id": "89652439",
   "metadata": {},
   "outputs": [],
   "source": []
  },
  {
   "cell_type": "code",
   "execution_count": null,
   "id": "2af6da21",
   "metadata": {},
   "outputs": [],
   "source": [
    "faltantes, nulos, summary, tabla de frecuencias por departamento, grafica sexo y pasarlo a factor (está string), correlación"
   ]
  },
  {
   "cell_type": "code",
   "execution_count": 26,
   "id": "1e42fbf5",
   "metadata": {},
   "outputs": [
    {
     "data": {
      "application/vnd.jupyter.widget-view+json": {
       "model_id": "",
       "version_major": 2,
       "version_minor": 0
      },
      "text/plain": [
       "FloatProgress(value=0.0, bar_style='info', description='Progress:', layout=Layout(height='25px', width='50%'),…"
      ]
     },
     "metadata": {},
     "output_type": "display_data"
    },
    {
     "name": "stderr",
     "output_type": "stream",
     "text": [
      "An error was encountered:\n",
      "cannot resolve '`Ubicaci?n del caso`' given input columns: [Código DIVIPOLA departamento, Código DIVIPOLA municipio, Código ISO del país, Edad, Estado, Fecha de diagnóstico, Fecha de inicio de síntomas, Fecha de muerte, Fecha de notificación, Fecha de recuperación, ID de caso, Nombre del grupo étnico, Nombre del país, Nombre departamento, Nombre municipio, Pertenencia étnica, Recuperado, Sexo, Tipo de contagio, Tipo de recuperación, Ubicación del caso, Unidad de medida de edad, fecha reporte web];\n",
      "'Project ['Ubicaci?n del caso, 'Nombre del pa?s, 'Nombre del grupo ?tnico, Sexo#25, Recuperado#31]\n",
      "+- GlobalLimit 100000\n",
      "   +- LocalLimit 100000\n",
      "      +- Sort [ID de caso#17 ASC NULLS FIRST], true\n",
      "         +- Relation[fecha reporte web#16,ID de caso#17,Fecha de notificación#18,Código DIVIPOLA departamento#19,Nombre departamento#20,Código DIVIPOLA municipio#21,Nombre municipio#22,Edad#23,Unidad de medida de edad#24,Sexo#25,Tipo de contagio#26,Ubicación del caso#27,Estado#28,Código ISO del país#29,Nombre del país#30,Recuperado#31,Fecha de inicio de síntomas#32,Fecha de muerte#33,Fecha de diagnóstico#34,Fecha de recuperación#35,Tipo de recuperación#36,Pertenencia étnica#37,Nombre del grupo étnico#38] csv\n",
      "\n",
      "Traceback (most recent call last):\n",
      "  File \"/usr/lib/spark/python/lib/pyspark.zip/pyspark/sql/dataframe.py\", line 1671, in select\n",
      "    jdf = self._jdf.select(self._jcols(*cols))\n",
      "  File \"/usr/lib/spark/python/lib/py4j-0.10.9-src.zip/py4j/java_gateway.py\", line 1305, in __call__\n",
      "    answer, self.gateway_client, self.target_id, self.name)\n",
      "  File \"/usr/lib/spark/python/lib/pyspark.zip/pyspark/sql/utils.py\", line 117, in deco\n",
      "    raise converted from None\n",
      "pyspark.sql.utils.AnalysisException: cannot resolve '`Ubicaci?n del caso`' given input columns: [Código DIVIPOLA departamento, Código DIVIPOLA municipio, Código ISO del país, Edad, Estado, Fecha de diagnóstico, Fecha de inicio de síntomas, Fecha de muerte, Fecha de notificación, Fecha de recuperación, ID de caso, Nombre del grupo étnico, Nombre del país, Nombre departamento, Nombre municipio, Pertenencia étnica, Recuperado, Sexo, Tipo de contagio, Tipo de recuperación, Ubicación del caso, Unidad de medida de edad, fecha reporte web];\n",
      "'Project ['Ubicaci?n del caso, 'Nombre del pa?s, 'Nombre del grupo ?tnico, Sexo#25, Recuperado#31]\n",
      "+- GlobalLimit 100000\n",
      "   +- LocalLimit 100000\n",
      "      +- Sort [ID de caso#17 ASC NULLS FIRST], true\n",
      "         +- Relation[fecha reporte web#16,ID de caso#17,Fecha de notificación#18,Código DIVIPOLA departamento#19,Nombre departamento#20,Código DIVIPOLA municipio#21,Nombre municipio#22,Edad#23,Unidad de medida de edad#24,Sexo#25,Tipo de contagio#26,Ubicación del caso#27,Estado#28,Código ISO del país#29,Nombre del país#30,Recuperado#31,Fecha de inicio de síntomas#32,Fecha de muerte#33,Fecha de diagnóstico#34,Fecha de recuperación#35,Tipo de recuperación#36,Pertenencia étnica#37,Nombre del grupo étnico#38] csv\n",
      "\n",
      "\n"
     ]
    }
   ],
   "source": [
    "from pyspark.mllib.stat import Statistics\n",
    "\n",
    "# select variables to check correlation\n",
    "df_features = covidDF1.select(\"Ubicación del caso\",\"Nombre del país\",\"Nombre del grupo étnico\",\"Sexo\",\"Recuperado\") \n",
    "\n",
    "# create RDD table for correlation calculation\n",
    "rdd_table = df_features.rdd.map(lambda row: row[0:])\n",
    "\n",
    "# get the correlation matrix\n",
    "corr_mat=Statistics.corr(rdd_table, method=\"pearson\")"
   ]
  },
  {
   "cell_type": "code",
   "execution_count": null,
   "id": "a84777db",
   "metadata": {},
   "outputs": [],
   "source": []
  },
  {
   "cell_type": "code",
   "execution_count": null,
   "id": "eafdbafe",
   "metadata": {},
   "outputs": [],
   "source": []
  }
 ],
 "metadata": {
  "kernelspec": {
   "display_name": "PySpark",
   "language": "python",
   "name": "pysparkkernel"
  },
  "language_info": {
   "codemirror_mode": {
    "name": "python",
    "version": 3
   },
   "file_extension": ".py",
   "mimetype": "text/x-python",
   "name": "pyspark",
   "pygments_lexer": "python3"
  }
 },
 "nbformat": 4,
 "nbformat_minor": 5
}
